{
  "nbformat": 4,
  "nbformat_minor": 0,
  "metadata": {
    "colab": {
      "private_outputs": true,
      "provenance": [],
      "authorship_tag": "ABX9TyOF5nvQProHgJXaE0aaaCTW",
      "include_colab_link": true
    },
    "kernelspec": {
      "name": "python3",
      "display_name": "Python 3"
    },
    "language_info": {
      "name": "python"
    }
  },
  "cells": [
    {
      "cell_type": "markdown",
      "metadata": {
        "id": "view-in-github",
        "colab_type": "text"
      },
      "source": [
        "<a href=\"https://colab.research.google.com/github/mahbubhimel/Transformer-NLP/blob/main/Layer_Normalization.ipynb\" target=\"_parent\"><img src=\"https://colab.research.google.com/assets/colab-badge.svg\" alt=\"Open In Colab\"/></a>"
      ]
    },
    {
      "cell_type": "code",
      "execution_count": null,
      "metadata": {
        "id": "6cJ5p4GrEAAD"
      },
      "outputs": [],
      "source": [
        "import torch\n",
        "from torch import nn"
      ]
    },
    {
      "cell_type": "code",
      "source": [
        "inputs = torch.Tensor([[[0.2, 0.1, 0.3], [0.5, 0.1, 0.1]]])\n",
        "B, S, E = inputs.size() #batch size, sequence length, embedding size\n",
        "inputs = inputs.reshape(S, B, E) #sequence length, batch size, embedding size\n",
        "inputs.size()"
      ],
      "metadata": {
        "id": "Ag8jaHteX0fb"
      },
      "execution_count": null,
      "outputs": []
    },
    {
      "cell_type": "code",
      "source": [
        "parameter_shape = inputs.size()[-2:]\n",
        "gamma = nn.Parameter(torch.ones(parameter_shape))\n",
        "beta = nn.Parameter(torch.zeros(parameter_shape))"
      ],
      "metadata": {
        "id": "MCQmOFF5YwDo"
      },
      "execution_count": null,
      "outputs": []
    },
    {
      "cell_type": "code",
      "source": [
        "gamma.size(), beta.size()"
      ],
      "metadata": {
        "id": "3Y09XLKzZD7w"
      },
      "execution_count": null,
      "outputs": []
    },
    {
      "cell_type": "code",
      "source": [
        "parameter_shape"
      ],
      "metadata": {
        "id": "MLx_48Mtb99W"
      },
      "execution_count": null,
      "outputs": []
    },
    {
      "cell_type": "code",
      "source": [
        "parameter_shape"
      ],
      "metadata": {
        "id": "ZRKW24HJcZZm"
      },
      "execution_count": null,
      "outputs": []
    },
    {
      "cell_type": "code",
      "source": [
        "dims = [-(i+1) for i in range (len(parameter_shape))]"
      ],
      "metadata": {
        "id": "tZjQaySwZkg3"
      },
      "execution_count": null,
      "outputs": []
    },
    {
      "cell_type": "code",
      "source": [
        "dims"
      ],
      "metadata": {
        "id": "IFU20947cCg9"
      },
      "execution_count": null,
      "outputs": []
    },
    {
      "cell_type": "code",
      "source": [
        "mean = inputs.mean(dim=dims, keepdim=True)\n",
        "mean.size()"
      ],
      "metadata": {
        "id": "G6k8DLH_cnBl"
      },
      "execution_count": null,
      "outputs": []
    },
    {
      "cell_type": "code",
      "source": [
        "mean"
      ],
      "metadata": {
        "id": "YZG1QgNMhkJi"
      },
      "execution_count": null,
      "outputs": []
    },
    {
      "cell_type": "code",
      "source": [
        "var = ((inputs -mean) ** 2).mean(dim=dims, keepdim=True)\n",
        "epsilon = 1e-5\n",
        "std = (var+epsilon).sqrt()\n",
        "std"
      ],
      "metadata": {
        "id": "yOfJOrddhohs"
      },
      "execution_count": null,
      "outputs": []
    },
    {
      "cell_type": "code",
      "source": [
        "y = (inputs - mean)/std\n",
        "y"
      ],
      "metadata": {
        "id": "z4swamt7iFdF"
      },
      "execution_count": null,
      "outputs": []
    },
    {
      "cell_type": "code",
      "source": [
        "out = gamma * y + beta"
      ],
      "metadata": {
        "id": "IG-B16VRiM8a"
      },
      "execution_count": null,
      "outputs": []
    },
    {
      "cell_type": "code",
      "source": [
        "out"
      ],
      "metadata": {
        "id": "Cd0M_ra0iSbR"
      },
      "execution_count": null,
      "outputs": []
    },
    {
      "cell_type": "markdown",
      "source": [
        "# **Full Code**"
      ],
      "metadata": {
        "id": "dKbInduWic6z"
      }
    },
    {
      "cell_type": "code",
      "source": [
        "import torch\n",
        "from torch import nn\n",
        "\n",
        "class LayerNormalization():\n",
        "\n",
        "  def __init__(self, parameters_shape, eps=1e-5):\n",
        "    self.parameters_shape = parameters_shape\n",
        "    self.eps = eps\n",
        "    self.gamma = nn.Parameter(torch.ones(parameters_shape))\n",
        "    self.beta = nn.Parameter(torch.zeros(parameters_shape))\n",
        "\n",
        "  def forward(self, input):\n",
        "    dims = [-(i+1) for i in range (len(self.parameters_shape))]\n",
        "    mean = input.mean(dim=dims, keepdim=True)\n",
        "    print(f\"Mean \\n ({mean.size()}): \\n {mean}\")\n",
        "    var = ((input -mean) ** 2).mean(dim=dims, keepdim=True)\n",
        "    std = (var + self.eps).sqrt()\n",
        "    print(f\"Standard Deviation \\n ({std.size()}): \\n {std}\")\n",
        "    y = (input - mean)/std\n",
        "    print(f\"y \\n ({y.size()}): \\n {y}\")\n",
        "    out = self.gamma * y + self.beta\n",
        "    print(f\"out \\n ({out.size()}): \\n {out}\")\n",
        "\n",
        "    return out"
      ],
      "metadata": {
        "id": "cOyRT0pLifvJ"
      },
      "execution_count": null,
      "outputs": []
    },
    {
      "cell_type": "code",
      "source": [
        "batch_size = 3\n",
        "sentence_length = 5\n",
        "embedding_dim = 8\n",
        "\n",
        "inputs = torch.randn(sentence_length, batch_size, embedding_dim)\n",
        "\n",
        "print(f\"input \\n ({inputs.size()}): \\n {inputs}\")"
      ],
      "metadata": {
        "id": "4k4CWMm-kDpv"
      },
      "execution_count": null,
      "outputs": []
    },
    {
      "cell_type": "code",
      "source": [
        "layer_norm = LayerNormalization(inputs.size()[-2:])"
      ],
      "metadata": {
        "id": "QNWVQFUSknzA"
      },
      "execution_count": null,
      "outputs": []
    },
    {
      "cell_type": "code",
      "source": [
        "out = layer_norm.forward(inputs)"
      ],
      "metadata": {
        "id": "UwvrbZg9k5Ue"
      },
      "execution_count": null,
      "outputs": []
    }
  ]
}