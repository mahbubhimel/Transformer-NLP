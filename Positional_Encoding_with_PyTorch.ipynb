{
  "nbformat": 4,
  "nbformat_minor": 0,
  "metadata": {
    "colab": {
      "private_outputs": true,
      "provenance": [],
      "authorship_tag": "ABX9TyNOaEMMKwxFQXYaBCYKySoG",
      "include_colab_link": true
    },
    "kernelspec": {
      "name": "python3",
      "display_name": "Python 3"
    },
    "language_info": {
      "name": "python"
    }
  },
  "cells": [
    {
      "cell_type": "markdown",
      "metadata": {
        "id": "view-in-github",
        "colab_type": "text"
      },
      "source": [
        "<a href=\"https://colab.research.google.com/github/mahbubhimel/Transformer-NLP/blob/main/Positional_Encoding_with_PyTorch.ipynb\" target=\"_parent\"><img src=\"https://colab.research.google.com/assets/colab-badge.svg\" alt=\"Open In Colab\"/></a>"
      ]
    },
    {
      "cell_type": "markdown",
      "source": [
        "$$\n",
        "PE(\\text{position}, i) = \\sin\\bigg( \\frac{ \\text{position} }{10000^\\frac{i}{d_{model}}} \\bigg) \\text{ when i is even}\n",
        "$$\n",
        "\n",
        "$$\n",
        "PE(\\text{position}, i) = \\cos\\bigg( \\frac{ \\text{position} }{10000^\\frac{i-1}{d_{model}}} \\bigg) \\text{ when i is odd}\n",
        "$$\n"
      ],
      "metadata": {
        "id": "0QJfLtTuvpA7"
      }
    },
    {
      "cell_type": "code",
      "execution_count": null,
      "metadata": {
        "id": "ZXOQ624Rzhos"
      },
      "outputs": [],
      "source": [
        "import torch\n",
        "import torch.nn as nn\n",
        "\n",
        "max_sequence_length = 10\n",
        "d_model = 6"
      ]
    },
    {
      "cell_type": "code",
      "source": [
        "even_i = torch.arange(0, d_model, 2).float()\n",
        "even_i"
      ],
      "metadata": {
        "id": "8qr_3a15DVvq"
      },
      "execution_count": null,
      "outputs": []
    },
    {
      "cell_type": "code",
      "source": [
        "even_denominator = torch.pow(10000, even_i/d_model)\n",
        "even_denominator"
      ],
      "metadata": {
        "id": "guyreFyU1PlT"
      },
      "execution_count": null,
      "outputs": []
    },
    {
      "cell_type": "code",
      "source": [
        "odd_i = torch.arange(1, d_model, 2).float()\n",
        "odd_i"
      ],
      "metadata": {
        "id": "kMKyWyYx1zi_"
      },
      "execution_count": null,
      "outputs": []
    },
    {
      "cell_type": "code",
      "source": [
        "odd_denominator = torch.pow(10000, (odd_i - 1)/d_model)\n",
        "odd_denominator"
      ],
      "metadata": {
        "id": "Wyex9P9B3QGM"
      },
      "execution_count": null,
      "outputs": []
    },
    {
      "cell_type": "code",
      "source": [
        "denominator = even_denominator"
      ],
      "metadata": {
        "id": "b6gUQWtA2EgW"
      },
      "execution_count": null,
      "outputs": []
    },
    {
      "cell_type": "code",
      "source": [
        "denominator.shape"
      ],
      "metadata": {
        "id": "ckcGIStJ7-_7"
      },
      "execution_count": null,
      "outputs": []
    },
    {
      "cell_type": "code",
      "source": [
        "position = torch.arange(max_sequence_length, dtype=torch.float).reshape(max_sequence_length, 1)"
      ],
      "metadata": {
        "id": "ObHmtBWD2S2P"
      },
      "execution_count": null,
      "outputs": []
    },
    {
      "cell_type": "code",
      "source": [
        "position"
      ],
      "metadata": {
        "id": "TMONN9Lj2n8s"
      },
      "execution_count": null,
      "outputs": []
    },
    {
      "cell_type": "code",
      "source": [
        "even_PE = torch.sin(position / denominator)\n",
        "odd_PE = torch.cos(position / denominator)"
      ],
      "metadata": {
        "id": "ihc1OFMU2u98"
      },
      "execution_count": null,
      "outputs": []
    },
    {
      "cell_type": "code",
      "source": [
        "even_PE"
      ],
      "metadata": {
        "id": "DRS5a2t_3qOU"
      },
      "execution_count": null,
      "outputs": []
    },
    {
      "cell_type": "code",
      "source": [
        "odd_PE"
      ],
      "metadata": {
        "id": "T3etuqW33tK8"
      },
      "execution_count": null,
      "outputs": []
    },
    {
      "cell_type": "code",
      "source": [
        "even_PE.shape"
      ],
      "metadata": {
        "id": "6jAJbXgA3ulr"
      },
      "execution_count": null,
      "outputs": []
    },
    {
      "cell_type": "code",
      "source": [
        "stacked = torch.stack([even_PE, odd_PE], dim=2)"
      ],
      "metadata": {
        "id": "cPLFxh4A8PgJ"
      },
      "execution_count": null,
      "outputs": []
    },
    {
      "cell_type": "code",
      "source": [
        "stacked"
      ],
      "metadata": {
        "id": "Sj3BopLo8jDw"
      },
      "execution_count": null,
      "outputs": []
    },
    {
      "cell_type": "code",
      "source": [
        "PE = torch.flatten(stacked, start_dim = 1, end_dim=2)"
      ],
      "metadata": {
        "id": "mil-S-aM9IPA"
      },
      "execution_count": null,
      "outputs": []
    },
    {
      "cell_type": "code",
      "source": [
        "PE.shape"
      ],
      "metadata": {
        "id": "fg4FdXQF9OyX"
      },
      "execution_count": null,
      "outputs": []
    },
    {
      "cell_type": "code",
      "source": [
        "PE"
      ],
      "metadata": {
        "id": "Y9ngBzodAca0"
      },
      "execution_count": null,
      "outputs": []
    },
    {
      "cell_type": "markdown",
      "source": [
        "# **Full Code**"
      ],
      "metadata": {
        "id": "CQSUwSv9C1bc"
      }
    },
    {
      "cell_type": "code",
      "source": [
        "import torch\n",
        "import torch.nn as nn\n",
        "\n",
        "class PositionalEncoding(nn.Module):\n",
        "\n",
        "  def __init__(self, d_model, max_sequence_length):\n",
        "      super().__init__()\n",
        "      self.max_sequence_length = max_sequence_length\n",
        "      self.d_model = d_model\n",
        "\n",
        "  def forward(self):\n",
        "      even_i = torch.arange(0, self.d_model, 2).float()\n",
        "      denominator = torch.pow(10000, even_i/self.d_model)\n",
        "      position = torch.arange(self.max_sequence_length).reshape(self.max_sequence_length, 1)\n",
        "      even_PE = torch.sin(position / denominator)\n",
        "      odd_PE = torch.cos(position / denominator)\n",
        "      stacked = torch.stack([even_PE, odd_PE], dim=2)\n",
        "      PE = torch.flatten(stacked, start_dim = 1, end_dim=2)\n",
        "\n",
        "      return PE"
      ],
      "metadata": {
        "id": "6WNTHaaMCZ0T"
      },
      "execution_count": null,
      "outputs": []
    },
    {
      "cell_type": "code",
      "source": [
        "pe = PositionalEncoding(d_model = 6, max_sequence_length=10)\n",
        "\n",
        "pe.forward()"
      ],
      "metadata": {
        "id": "lc-3-ndjEim1"
      },
      "execution_count": null,
      "outputs": []
    }
  ]
}