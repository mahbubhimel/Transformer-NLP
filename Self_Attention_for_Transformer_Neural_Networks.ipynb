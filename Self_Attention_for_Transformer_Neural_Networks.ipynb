{
  "nbformat": 4,
  "nbformat_minor": 0,
  "metadata": {
    "colab": {
      "private_outputs": true,
      "provenance": [],
      "authorship_tag": "ABX9TyPRCPwdjBxtZKYEh6r5yDAm",
      "include_colab_link": true
    },
    "kernelspec": {
      "name": "python3",
      "display_name": "Python 3"
    },
    "language_info": {
      "name": "python"
    }
  },
  "cells": [
    {
      "cell_type": "markdown",
      "metadata": {
        "id": "view-in-github",
        "colab_type": "text"
      },
      "source": [
        "<a href=\"https://colab.research.google.com/github/mahbubhimel/Transformer-NLP/blob/main/Self_Attention_for_Transformer_Neural_Networks.ipynb\" target=\"_parent\"><img src=\"https://colab.research.google.com/assets/colab-badge.svg\" alt=\"Open In Colab\"/></a>"
      ]
    },
    {
      "cell_type": "code",
      "execution_count": null,
      "metadata": {
        "id": "pB-YmF2-Di95"
      },
      "outputs": [],
      "source": [
        "import numpy as np\n",
        "import math"
      ]
    },
    {
      "cell_type": "markdown",
      "source": [
        "**Q:** what am i looking for\n",
        "\n",
        "[sequence length x d_k]\n",
        "\n",
        "**K:** what i can offer\n",
        "\n",
        "[sequence length x d_k]\n",
        "\n",
        "**V:** what i actually offer\n",
        "\n",
        "[sequence length x d_v]"
      ],
      "metadata": {
        "id": "I4qbSQqIEcPD"
      }
    },
    {
      "cell_type": "code",
      "source": [
        "L, d_k, d_v = 4, 8, 8\n",
        "\n",
        "q = np.random.randn(L, d_k) #4x8 matrix\n",
        "k = np.random.randn(L, d_k) #4x8 matrix\n",
        "v = np.random.randn(L, d_v) #4x8 matrix"
      ],
      "metadata": {
        "id": "wPAdyTSTDuKM"
      },
      "execution_count": null,
      "outputs": []
    },
    {
      "cell_type": "code",
      "source": [
        "print(\"Q\\n\", q)\n",
        "print(\"K\\n\", k)\n",
        "print(\"V\\n\", v)"
      ],
      "metadata": {
        "id": "k06mxmFL6R7I"
      },
      "execution_count": null,
      "outputs": []
    },
    {
      "cell_type": "markdown",
      "source": [
        "# **Masking**"
      ],
      "metadata": {
        "id": "c0otkXiGJIzP"
      }
    },
    {
      "cell_type": "code",
      "source": [
        "mask = np.tril(np.ones( (L, L) ))\n",
        "mask"
      ],
      "metadata": {
        "id": "0FZA8g3JJLOe"
      },
      "execution_count": null,
      "outputs": []
    },
    {
      "cell_type": "code",
      "source": [
        "mask[mask == 0] = -np.infty\n",
        "mask[mask == 1] = 0\n",
        "\n",
        "mask"
      ],
      "metadata": {
        "id": "_CIYJU7EJcY9"
      },
      "execution_count": null,
      "outputs": []
    },
    {
      "cell_type": "code",
      "source": [
        "def softmax(x):\n",
        "  return (np.exp(x).T / np.sum(np.exp(x), axis=-1)).T\n",
        "\n",
        "def scaled_dot_product_attention(q, k, v, mask=None):\n",
        "  d_k = q.shape[-1]\n",
        "  scaled = np.matmul(q, k.T) / math.sqrt(d_k)\n",
        "  if mask is not None:\n",
        "    scaled = scaled + mask\n",
        "  attention = softmax(scaled)\n",
        "  out = np.matmul(attention, v)\n",
        "\n",
        "  return out, attention"
      ],
      "metadata": {
        "id": "1V4QDkwlL_RT"
      },
      "execution_count": null,
      "outputs": []
    },
    {
      "cell_type": "code",
      "source": [
        "values, attention = scaled_dot_product_attention(q, k, v, mask=mask);\n",
        "\n",
        "print(\"Q\\n\", q)\n",
        "print(\"K\\n\", k)\n",
        "print(\"V\\n\", v)\n",
        "print(\"New_value\\n\", values)\n",
        "print(\"Attention\\n\", attention)"
      ],
      "metadata": {
        "id": "siosOXILNPeL"
      },
      "execution_count": null,
      "outputs": []
    }
  ]
}